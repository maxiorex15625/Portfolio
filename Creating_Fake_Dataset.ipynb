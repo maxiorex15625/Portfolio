{
 "cells": [
  {
   "cell_type": "code",
   "execution_count": 5,
   "id": "7bf6eae1",
   "metadata": {
    "ExecuteTime": {
     "end_time": "2022-09-28T12:08:27.540679Z",
     "start_time": "2022-09-28T12:08:27.537544Z"
    }
   },
   "outputs": [],
   "source": [
    "from faker import Faker\n",
    "import pandas as pd\n",
    "import numpy as np\n",
    "import random"
   ]
  },
  {
   "cell_type": "code",
   "execution_count": 2,
   "id": "d6821b48",
   "metadata": {
    "ExecuteTime": {
     "end_time": "2022-09-28T12:08:40.177807Z",
     "start_time": "2022-09-28T12:08:40.135621Z"
    }
   },
   "outputs": [],
   "source": [
    "fake = Faker()"
   ]
  },
  {
   "cell_type": "code",
   "execution_count": 3,
   "id": "ab87cc13",
   "metadata": {
    "ExecuteTime": {
     "end_time": "2022-09-28T12:40:54.922554Z",
     "start_time": "2022-09-28T12:40:54.910111Z"
    }
   },
   "outputs": [],
   "source": [
    "def create_dataset(num):\n",
    "\n",
    "    # Lists needed for fake data\n",
    "\n",
    "    customer_acquisition = ['Ad', 'Returning', 'Organic']\n",
    "    country = [\n",
    "        'Poland', 'Germany', 'France', 'Norway', 'Spain', 'UK'\n",
    "    ]\n",
    "    product_num = [\n",
    "        'Product 1', 'Product 2', 'Product 3', 'Product 4', 'Product 5'\n",
    "    ]\n",
    "    # Units 1 - 50\n",
    "    price = [\n",
    "        100, 200, 300, 400, 500\n",
    "    ]  #for fun, I'll do it in excel using xlookup based on product_num\n",
    "    # Revenue units * price\n",
    "    deliv_perf = ['On-time', 'Delayed']\n",
    "    returned = [\"Yes\", \"No\"]\n",
    "    cust_satisf = [\"Very low\", \"Low\", \"Ok\", \"Good\", \"Very good\"]\n",
    "\n",
    "    fake_data = [{\n",
    "        'Date':\n",
    "        fake.date_between_dates(date_start=datetime(2020, 1, 1),\n",
    "                                date_end=datetime(2021, 12, 31)),\n",
    "        'Customer Acquisition Type':\n",
    "        np.random.choice(customer_acquisition, p=[.3, .3, .4]),\n",
    "        'Country':\n",
    "        np.random.choice(country, p=[.3, .2, .15, .05, .1, .2]),\n",
    "        'Product':\n",
    "        np.random.choice(product_num, p=[.2, .3, .1, .3, .1]),\n",
    "        'Units':\n",
    "        np.random.randint(1, 50),\n",
    "        'Delivery Performance':\n",
    "        np.random.choice(deliv_perf, p=[.85, .15]),\n",
    "        'Return':\n",
    "        np.random.choice(returned, p=[.1, .9]),\n",
    "        'Customer Satisfaction':\n",
    "        np.random.choice(cust_satisf, p=[.04, .06, .2, .4, .3])\n",
    "    } for _ in range(num)]\n",
    "\n",
    "    return fake_data"
   ]
  },
  {
   "cell_type": "code",
   "execution_count": 40,
   "id": "d906b2d1",
   "metadata": {
    "ExecuteTime": {
     "end_time": "2022-09-28T12:44:49.148350Z",
     "start_time": "2022-09-28T12:44:48.061802Z"
    }
   },
   "outputs": [],
   "source": [
    "df = pd.DataFrame(create_dataset(num=8000))"
   ]
  },
  {
   "cell_type": "code",
   "execution_count": 41,
   "id": "599f3fc1",
   "metadata": {
    "ExecuteTime": {
     "end_time": "2022-09-28T12:44:50.996208Z",
     "start_time": "2022-09-28T12:44:50.978130Z"
    }
   },
   "outputs": [
    {
     "data": {
      "text/html": [
       "<div>\n",
       "<style scoped>\n",
       "    .dataframe tbody tr th:only-of-type {\n",
       "        vertical-align: middle;\n",
       "    }\n",
       "\n",
       "    .dataframe tbody tr th {\n",
       "        vertical-align: top;\n",
       "    }\n",
       "\n",
       "    .dataframe thead th {\n",
       "        text-align: right;\n",
       "    }\n",
       "</style>\n",
       "<table border=\"1\" class=\"dataframe\">\n",
       "  <thead>\n",
       "    <tr style=\"text-align: right;\">\n",
       "      <th></th>\n",
       "      <th>Date</th>\n",
       "      <th>Customer Acquisition Type</th>\n",
       "      <th>Country</th>\n",
       "      <th>Product</th>\n",
       "      <th>Units</th>\n",
       "      <th>Delivery Performance</th>\n",
       "      <th>Return</th>\n",
       "      <th>Customer Satisfaction</th>\n",
       "    </tr>\n",
       "  </thead>\n",
       "  <tbody>\n",
       "    <tr>\n",
       "      <th>0</th>\n",
       "      <td>2021-09-16</td>\n",
       "      <td>Ad</td>\n",
       "      <td>Spain</td>\n",
       "      <td>Product 4</td>\n",
       "      <td>17</td>\n",
       "      <td>On-time</td>\n",
       "      <td>No</td>\n",
       "      <td>Very good</td>\n",
       "    </tr>\n",
       "    <tr>\n",
       "      <th>1</th>\n",
       "      <td>2020-06-22</td>\n",
       "      <td>Returning</td>\n",
       "      <td>Germany</td>\n",
       "      <td>Product 3</td>\n",
       "      <td>13</td>\n",
       "      <td>On-time</td>\n",
       "      <td>No</td>\n",
       "      <td>Very good</td>\n",
       "    </tr>\n",
       "    <tr>\n",
       "      <th>2</th>\n",
       "      <td>2020-09-02</td>\n",
       "      <td>Ad</td>\n",
       "      <td>France</td>\n",
       "      <td>Product 4</td>\n",
       "      <td>11</td>\n",
       "      <td>On-time</td>\n",
       "      <td>No</td>\n",
       "      <td>Very good</td>\n",
       "    </tr>\n",
       "    <tr>\n",
       "      <th>3</th>\n",
       "      <td>2021-01-29</td>\n",
       "      <td>Returning</td>\n",
       "      <td>United Kingdoms</td>\n",
       "      <td>Product 2</td>\n",
       "      <td>32</td>\n",
       "      <td>On-time</td>\n",
       "      <td>No</td>\n",
       "      <td>Good</td>\n",
       "    </tr>\n",
       "    <tr>\n",
       "      <th>4</th>\n",
       "      <td>2020-07-07</td>\n",
       "      <td>Returning</td>\n",
       "      <td>Poland</td>\n",
       "      <td>Product 4</td>\n",
       "      <td>28</td>\n",
       "      <td>On-time</td>\n",
       "      <td>Yes</td>\n",
       "      <td>Very good</td>\n",
       "    </tr>\n",
       "  </tbody>\n",
       "</table>\n",
       "</div>"
      ],
      "text/plain": [
       "         Date Customer Acquisition Type          Country    Product  Units  \\\n",
       "0  2021-09-16                        Ad            Spain  Product 4     17   \n",
       "1  2020-06-22                 Returning          Germany  Product 3     13   \n",
       "2  2020-09-02                        Ad           France  Product 4     11   \n",
       "3  2021-01-29                 Returning  United Kingdoms  Product 2     32   \n",
       "4  2020-07-07                 Returning           Poland  Product 4     28   \n",
       "\n",
       "  Delivery Performance Return Customer Satisfaction  \n",
       "0              On-time     No             Very good  \n",
       "1              On-time     No             Very good  \n",
       "2              On-time     No             Very good  \n",
       "3              On-time     No                  Good  \n",
       "4              On-time    Yes             Very good  "
      ]
     },
     "execution_count": 41,
     "metadata": {},
     "output_type": "execute_result"
    }
   ],
   "source": [
    "df.head()"
   ]
  },
  {
   "cell_type": "code",
   "execution_count": 42,
   "id": "0927e9c4",
   "metadata": {
    "ExecuteTime": {
     "end_time": "2022-09-28T12:44:54.592810Z",
     "start_time": "2022-09-28T12:44:54.534716Z"
    }
   },
   "outputs": [],
   "source": [
    "df.to_csv('fakedata.csv', index=False)"
   ]
  }
 ],
 "metadata": {
  "kernelspec": {
   "display_name": "Python 3",
   "language": "python",
   "name": "python3"
  },
  "language_info": {
   "codemirror_mode": {
    "name": "ipython",
    "version": 3
   },
   "file_extension": ".py",
   "mimetype": "text/x-python",
   "name": "python",
   "nbconvert_exporter": "python",
   "pygments_lexer": "ipython3",
   "version": "3.8.8"
  },
  "varInspector": {
   "cols": {
    "lenName": 16,
    "lenType": 16,
    "lenVar": 40
   },
   "kernels_config": {
    "python": {
     "delete_cmd_postfix": "",
     "delete_cmd_prefix": "del ",
     "library": "var_list.py",
     "varRefreshCmd": "print(var_dic_list())"
    },
    "r": {
     "delete_cmd_postfix": ") ",
     "delete_cmd_prefix": "rm(",
     "library": "var_list.r",
     "varRefreshCmd": "cat(var_dic_list()) "
    }
   },
   "types_to_exclude": [
    "module",
    "function",
    "builtin_function_or_method",
    "instance",
    "_Feature"
   ],
   "window_display": false
  }
 },
 "nbformat": 4,
 "nbformat_minor": 5
}
