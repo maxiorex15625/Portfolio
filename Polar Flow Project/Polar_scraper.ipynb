{
 "cells": [
  {
   "cell_type": "code",
   "execution_count": 1,
   "id": "ac030e25",
   "metadata": {
    "ExecuteTime": {
     "end_time": "2022-11-07T14:57:32.295735Z",
     "start_time": "2022-11-07T14:57:31.356744Z"
    }
   },
   "outputs": [],
   "source": [
    "from selenium import webdriver\n",
    "from selenium.webdriver.common.by import By\n",
    "from selenium.webdriver.common.keys import Keys\n",
    "from selenium.webdriver.support.ui import WebDriverWait\n",
    "from selenium.webdriver.support import expected_conditions as EC\n",
    "from bs4 import BeautifulSoup\n",
    "import pandas as pd\n",
    "import time\n"
   ]
  },
  {
   "cell_type": "code",
   "execution_count": 5,
   "id": "13173d3c",
   "metadata": {
    "ExecuteTime": {
     "end_time": "2022-11-07T13:30:16.443832Z",
     "start_time": "2022-11-07T12:51:04.957748Z"
    }
   },
   "outputs": [
    {
     "name": "stderr",
     "output_type": "stream",
     "text": [
      "<ipython-input-5-327b875af576>:1: DeprecationWarning: executable_path has been deprecated, please pass in a Service object\n",
      "  driver = webdriver.Chrome(r'/Users/maste/Portfolio Projects/Polar/ChromeDriver/chromedriver')\n"
     ]
    }
   ],
   "source": [
    "driver = webdriver.Chrome(\n",
    "    r'### LOCATION OF WEBDRIVER ###')\n",
    "driver.get('https://flow.polar.com/')\n",
    "time.sleep(3)\n",
    "\n",
    "cookie_button = driver.find_element(\"xpath\",\n",
    "                                    '//*[@id=\"onetrust-accept-btn-handler\"]')\n",
    "cookie_button.click()\n",
    "\n",
    "login_list = driver.find_element(\"xpath\", '//*[@id=\"loginButtonNav\"]')\n",
    "login_list.click()\n",
    "\n",
    "time.sleep(1)\n",
    "login = driver.find_element(\"xpath\", '//*[@id=\"email\"]')\n",
    "login.send_keys('###LOGIN###')\n",
    "time.sleep(2)\n",
    "password = driver.find_element(\"xpath\", '//*[@id=\"password\"]')\n",
    "password.send_keys('###PASSWORD###')\n",
    "\n",
    "time.sleep(2)\n",
    "login_button = driver.find_element(\"xpath\", '//*[@id=\"login\"]')\n",
    "login_button.click()\n",
    "time.sleep(10)\n",
    "\n",
    "driver.get('https://flow.polar.com/training/day/06.03.2020')  #since beginning\n",
    "time.sleep(4)\n",
    "\n",
    "date = []\n",
    "active_time = []\n",
    "steps = []\n",
    "km_measured_in_steps = []\n",
    "calories_burned = []\n",
    "inactivity_stamps = []\n",
    "sleep_time = []\n",
    "\n",
    "for i in range(976):  # 06.11.2022 - 06.03.2020\n",
    "    soup = BeautifulSoup(driver.page_source, 'lxml')\n",
    "    html_date = soup.find(\n",
    "        'span', class_='inline-block datepicker-dropdown-title-element')\n",
    "    value_huge = soup.find_all('span', class_=\"value-huge\")\n",
    "    date.append(html_date.text.strip())\n",
    "    active_time.append(value_huge[0].text)\n",
    "    steps.append(value_huge[1].text)\n",
    "    km_measured_in_steps.append(value_huge[2].text)\n",
    "    calories_burned.append(value_huge[3].text)\n",
    "    inactivity_stamps.append(value_huge[4].text)\n",
    "    sleep_time.append(value_huge[5].text)\n",
    "\n",
    "    next_page = driver.find_element(\"xpath\", '//*[@id=\"toNextCalendar\"]')\n",
    "    next_page.click()\n",
    "\n",
    "    time.sleep(1)\n",
    "\n",
    "activity_measures_dict = {\n",
    "    'Date': date,\n",
    "    'Active time': active_time,\n",
    "    'Steps': steps,\n",
    "    'Km based on steps': km_measured_in_steps,\n",
    "    'Calories burned': calories_burned,\n",
    "    'Inactivity stamps': inactivity_stamps,\n",
    "    'Sleep time': sleep_time\n",
    "}\n",
    "\n",
    "df = pd.DataFrame(activity_measures_dict)\n",
    "df.to_csv('all_measures_data.csv')\n",
    "\n",
    "driver.get('https://flow.polar.com/diary/2020/week/10')\n",
    "time.sleep(2)\n",
    "\n",
    "activity_list = []\n",
    "\n",
    "for i in range(140):  #976 / 7\n",
    "\n",
    "    soup = BeautifulSoup(driver.page_source, 'lxml')\n",
    "\n",
    "    activity_level = soup.find_all('div', class_='value activity-goal__value')\n",
    "\n",
    "    time.sleep(2)\n",
    "\n",
    "    for x in activity_level:\n",
    "        activity_list.append(x.text.strip())\n",
    "\n",
    "    next_page = driver.find_element(\"xpath\", '//*[@id=\"toNextCalendar\"]')\n",
    "    next_page.click()\n",
    "\n",
    "    time.sleep(2)\n",
    "\n",
    "activity = {\"Activity level\": activity_list}\n",
    "activ_df = pd.DataFrame(activity)\n",
    "activ_df.to_csv('activity_levels.csv')"
   ]
  },
  {
   "cell_type": "code",
   "execution_count": null,
   "id": "3a7cbffb",
   "metadata": {},
   "outputs": [],
   "source": []
  }
 ],
 "metadata": {
  "kernelspec": {
   "display_name": "Python 3",
   "language": "python",
   "name": "python3"
  },
  "language_info": {
   "codemirror_mode": {
    "name": "ipython",
    "version": 3
   },
   "file_extension": ".py",
   "mimetype": "text/x-python",
   "name": "python",
   "nbconvert_exporter": "python",
   "pygments_lexer": "ipython3",
   "version": "3.8.8"
  },
  "varInspector": {
   "cols": {
    "lenName": 16,
    "lenType": 16,
    "lenVar": 40
   },
   "kernels_config": {
    "python": {
     "delete_cmd_postfix": "",
     "delete_cmd_prefix": "del ",
     "library": "var_list.py",
     "varRefreshCmd": "print(var_dic_list())"
    },
    "r": {
     "delete_cmd_postfix": ") ",
     "delete_cmd_prefix": "rm(",
     "library": "var_list.r",
     "varRefreshCmd": "cat(var_dic_list()) "
    }
   },
   "types_to_exclude": [
    "module",
    "function",
    "builtin_function_or_method",
    "instance",
    "_Feature"
   ],
   "window_display": false
  }
 },
 "nbformat": 4,
 "nbformat_minor": 5
}
