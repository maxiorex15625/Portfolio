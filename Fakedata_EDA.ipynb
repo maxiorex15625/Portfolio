{
 "cells": [
  {
   "cell_type": "markdown",
   "id": "c7ac52ba",
   "metadata": {},
   "source": [
    "## Importing packages"
   ]
  },
  {
   "cell_type": "code",
   "execution_count": 27,
   "id": "badb50b3-2ea9-4cc9-9bd9-895e33ce6ad8",
   "metadata": {
    "ExecuteTime": {
     "end_time": "2022-09-28T16:28:09.062588Z",
     "start_time": "2022-09-28T16:28:09.057917Z"
    }
   },
   "outputs": [],
   "source": [
    "import pandas as pd\n",
    "import numpy as np\n",
    "import seaborn as sns\n",
    "import matplotlib.pyplot as plt"
   ]
  },
  {
   "cell_type": "markdown",
   "id": "a93c7099",
   "metadata": {},
   "source": [
    "### Loading Dataset"
   ]
  },
  {
   "cell_type": "code",
   "execution_count": 2,
   "id": "75951071-d97f-4cb4-8e96-609552ddeb98",
   "metadata": {
    "ExecuteTime": {
     "end_time": "2022-09-28T16:25:27.633098Z",
     "start_time": "2022-09-28T16:25:27.586117Z"
    }
   },
   "outputs": [
    {
     "data": {
      "text/html": [
       "<div>\n",
       "<style scoped>\n",
       "    .dataframe tbody tr th:only-of-type {\n",
       "        vertical-align: middle;\n",
       "    }\n",
       "\n",
       "    .dataframe tbody tr th {\n",
       "        vertical-align: top;\n",
       "    }\n",
       "\n",
       "    .dataframe thead th {\n",
       "        text-align: right;\n",
       "    }\n",
       "</style>\n",
       "<table border=\"1\" class=\"dataframe\">\n",
       "  <thead>\n",
       "    <tr style=\"text-align: right;\">\n",
       "      <th></th>\n",
       "      <th>Date</th>\n",
       "      <th>Customer Acquisition Type</th>\n",
       "      <th>Country</th>\n",
       "      <th>Product</th>\n",
       "      <th>Units</th>\n",
       "      <th>Price</th>\n",
       "      <th>Revenue</th>\n",
       "      <th>Delivery Performance</th>\n",
       "      <th>Return</th>\n",
       "      <th>Customer Satisfaction</th>\n",
       "    </tr>\n",
       "  </thead>\n",
       "  <tbody>\n",
       "    <tr>\n",
       "      <th>0</th>\n",
       "      <td>1/1/2020</td>\n",
       "      <td>Returning</td>\n",
       "      <td>United Kingdoms</td>\n",
       "      <td>Product 1</td>\n",
       "      <td>2</td>\n",
       "      <td>300</td>\n",
       "      <td>600</td>\n",
       "      <td>On-time</td>\n",
       "      <td>No</td>\n",
       "      <td>Good</td>\n",
       "    </tr>\n",
       "    <tr>\n",
       "      <th>1</th>\n",
       "      <td>1/1/2020</td>\n",
       "      <td>Returning</td>\n",
       "      <td>France</td>\n",
       "      <td>Product 4</td>\n",
       "      <td>43</td>\n",
       "      <td>400</td>\n",
       "      <td>17200</td>\n",
       "      <td>On-time</td>\n",
       "      <td>No</td>\n",
       "      <td>Good</td>\n",
       "    </tr>\n",
       "    <tr>\n",
       "      <th>2</th>\n",
       "      <td>1/1/2020</td>\n",
       "      <td>Ad</td>\n",
       "      <td>Poland</td>\n",
       "      <td>Product 5</td>\n",
       "      <td>23</td>\n",
       "      <td>200</td>\n",
       "      <td>4600</td>\n",
       "      <td>On-time</td>\n",
       "      <td>No</td>\n",
       "      <td>Good</td>\n",
       "    </tr>\n",
       "    <tr>\n",
       "      <th>3</th>\n",
       "      <td>1/1/2020</td>\n",
       "      <td>Organic</td>\n",
       "      <td>Germany</td>\n",
       "      <td>Product 2</td>\n",
       "      <td>48</td>\n",
       "      <td>500</td>\n",
       "      <td>24000</td>\n",
       "      <td>On-time</td>\n",
       "      <td>Yes</td>\n",
       "      <td>Good</td>\n",
       "    </tr>\n",
       "    <tr>\n",
       "      <th>4</th>\n",
       "      <td>1/1/2020</td>\n",
       "      <td>Organic</td>\n",
       "      <td>United Kingdoms</td>\n",
       "      <td>Product 4</td>\n",
       "      <td>44</td>\n",
       "      <td>400</td>\n",
       "      <td>17600</td>\n",
       "      <td>Delayed</td>\n",
       "      <td>No</td>\n",
       "      <td>Very good</td>\n",
       "    </tr>\n",
       "  </tbody>\n",
       "</table>\n",
       "</div>"
      ],
      "text/plain": [
       "       Date Customer Acquisition Type          Country    Product  Units  \\\n",
       "0  1/1/2020                 Returning  United Kingdoms  Product 1      2   \n",
       "1  1/1/2020                 Returning           France  Product 4     43   \n",
       "2  1/1/2020                        Ad           Poland  Product 5     23   \n",
       "3  1/1/2020                   Organic          Germany  Product 2     48   \n",
       "4  1/1/2020                   Organic  United Kingdoms  Product 4     44   \n",
       "\n",
       "   Price  Revenue Delivery Performance Return Customer Satisfaction  \n",
       "0    300      600              On-time     No                  Good  \n",
       "1    400    17200              On-time     No                  Good  \n",
       "2    200     4600              On-time     No                  Good  \n",
       "3    500    24000              On-time    Yes                  Good  \n",
       "4    400    17600              Delayed     No             Very good  "
      ]
     },
     "execution_count": 2,
     "metadata": {},
     "output_type": "execute_result"
    }
   ],
   "source": [
    "df = pd.read_csv('fakedata_EDA_copy.csv')\n",
    "df.head()"
   ]
  },
  {
   "cell_type": "code",
   "execution_count": 3,
   "id": "5eeef6d8-97c0-4d4f-8c96-43cf66145ee7",
   "metadata": {
    "ExecuteTime": {
     "end_time": "2022-09-28T16:25:29.926937Z",
     "start_time": "2022-09-28T16:25:29.894812Z"
    }
   },
   "outputs": [
    {
     "data": {
      "text/html": [
       "<div>\n",
       "<style scoped>\n",
       "    .dataframe tbody tr th:only-of-type {\n",
       "        vertical-align: middle;\n",
       "    }\n",
       "\n",
       "    .dataframe tbody tr th {\n",
       "        vertical-align: top;\n",
       "    }\n",
       "\n",
       "    .dataframe thead th {\n",
       "        text-align: right;\n",
       "    }\n",
       "</style>\n",
       "<table border=\"1\" class=\"dataframe\">\n",
       "  <thead>\n",
       "    <tr style=\"text-align: right;\">\n",
       "      <th></th>\n",
       "      <th>Units</th>\n",
       "      <th>Price</th>\n",
       "      <th>Revenue</th>\n",
       "    </tr>\n",
       "  </thead>\n",
       "  <tbody>\n",
       "    <tr>\n",
       "      <th>count</th>\n",
       "      <td>8000.000000</td>\n",
       "      <td>8000.000000</td>\n",
       "      <td>8000.000000</td>\n",
       "    </tr>\n",
       "    <tr>\n",
       "      <th>mean</th>\n",
       "      <td>25.201375</td>\n",
       "      <td>358.887500</td>\n",
       "      <td>9061.012500</td>\n",
       "    </tr>\n",
       "    <tr>\n",
       "      <th>std</th>\n",
       "      <td>14.166083</td>\n",
       "      <td>129.143707</td>\n",
       "      <td>6304.650847</td>\n",
       "    </tr>\n",
       "    <tr>\n",
       "      <th>min</th>\n",
       "      <td>1.000000</td>\n",
       "      <td>100.000000</td>\n",
       "      <td>100.000000</td>\n",
       "    </tr>\n",
       "    <tr>\n",
       "      <th>25%</th>\n",
       "      <td>13.000000</td>\n",
       "      <td>300.000000</td>\n",
       "      <td>3600.000000</td>\n",
       "    </tr>\n",
       "    <tr>\n",
       "      <th>50%</th>\n",
       "      <td>25.000000</td>\n",
       "      <td>400.000000</td>\n",
       "      <td>8000.000000</td>\n",
       "    </tr>\n",
       "    <tr>\n",
       "      <th>75%</th>\n",
       "      <td>37.000000</td>\n",
       "      <td>500.000000</td>\n",
       "      <td>13500.000000</td>\n",
       "    </tr>\n",
       "    <tr>\n",
       "      <th>max</th>\n",
       "      <td>49.000000</td>\n",
       "      <td>500.000000</td>\n",
       "      <td>24500.000000</td>\n",
       "    </tr>\n",
       "  </tbody>\n",
       "</table>\n",
       "</div>"
      ],
      "text/plain": [
       "             Units        Price       Revenue\n",
       "count  8000.000000  8000.000000   8000.000000\n",
       "mean     25.201375   358.887500   9061.012500\n",
       "std      14.166083   129.143707   6304.650847\n",
       "min       1.000000   100.000000    100.000000\n",
       "25%      13.000000   300.000000   3600.000000\n",
       "50%      25.000000   400.000000   8000.000000\n",
       "75%      37.000000   500.000000  13500.000000\n",
       "max      49.000000   500.000000  24500.000000"
      ]
     },
     "execution_count": 3,
     "metadata": {},
     "output_type": "execute_result"
    }
   ],
   "source": [
    "df.describe()"
   ]
  },
  {
   "cell_type": "code",
   "execution_count": 4,
   "id": "fed66eae-f253-4351-84d9-eb447f047b51",
   "metadata": {
    "ExecuteTime": {
     "end_time": "2022-09-28T16:25:32.695373Z",
     "start_time": "2022-09-28T16:25:32.640579Z"
    }
   },
   "outputs": [
    {
     "data": {
      "text/html": [
       "<div>\n",
       "<style scoped>\n",
       "    .dataframe tbody tr th:only-of-type {\n",
       "        vertical-align: middle;\n",
       "    }\n",
       "\n",
       "    .dataframe tbody tr th {\n",
       "        vertical-align: top;\n",
       "    }\n",
       "\n",
       "    .dataframe thead th {\n",
       "        text-align: right;\n",
       "    }\n",
       "</style>\n",
       "<table border=\"1\" class=\"dataframe\">\n",
       "  <thead>\n",
       "    <tr style=\"text-align: right;\">\n",
       "      <th></th>\n",
       "      <th>Date</th>\n",
       "      <th>Customer Acquisition Type</th>\n",
       "      <th>Country</th>\n",
       "      <th>Product</th>\n",
       "      <th>Units</th>\n",
       "      <th>Price</th>\n",
       "      <th>Revenue</th>\n",
       "      <th>Delivery Performance</th>\n",
       "      <th>Return</th>\n",
       "      <th>Customer Satisfaction</th>\n",
       "    </tr>\n",
       "  </thead>\n",
       "  <tbody>\n",
       "    <tr>\n",
       "      <th>count</th>\n",
       "      <td>8000</td>\n",
       "      <td>8000</td>\n",
       "      <td>8000</td>\n",
       "      <td>8000</td>\n",
       "      <td>8000.000000</td>\n",
       "      <td>8000.000000</td>\n",
       "      <td>8000.000000</td>\n",
       "      <td>8000</td>\n",
       "      <td>8000</td>\n",
       "      <td>8000</td>\n",
       "    </tr>\n",
       "    <tr>\n",
       "      <th>unique</th>\n",
       "      <td>730</td>\n",
       "      <td>3</td>\n",
       "      <td>6</td>\n",
       "      <td>5</td>\n",
       "      <td>NaN</td>\n",
       "      <td>NaN</td>\n",
       "      <td>NaN</td>\n",
       "      <td>2</td>\n",
       "      <td>2</td>\n",
       "      <td>5</td>\n",
       "    </tr>\n",
       "    <tr>\n",
       "      <th>top</th>\n",
       "      <td>10/25/2020</td>\n",
       "      <td>Organic</td>\n",
       "      <td>Poland</td>\n",
       "      <td>Product 2</td>\n",
       "      <td>NaN</td>\n",
       "      <td>NaN</td>\n",
       "      <td>NaN</td>\n",
       "      <td>On-time</td>\n",
       "      <td>No</td>\n",
       "      <td>Good</td>\n",
       "    </tr>\n",
       "    <tr>\n",
       "      <th>freq</th>\n",
       "      <td>24</td>\n",
       "      <td>3224</td>\n",
       "      <td>2399</td>\n",
       "      <td>2408</td>\n",
       "      <td>NaN</td>\n",
       "      <td>NaN</td>\n",
       "      <td>NaN</td>\n",
       "      <td>6761</td>\n",
       "      <td>7172</td>\n",
       "      <td>3177</td>\n",
       "    </tr>\n",
       "    <tr>\n",
       "      <th>mean</th>\n",
       "      <td>NaN</td>\n",
       "      <td>NaN</td>\n",
       "      <td>NaN</td>\n",
       "      <td>NaN</td>\n",
       "      <td>25.201375</td>\n",
       "      <td>358.887500</td>\n",
       "      <td>9061.012500</td>\n",
       "      <td>NaN</td>\n",
       "      <td>NaN</td>\n",
       "      <td>NaN</td>\n",
       "    </tr>\n",
       "    <tr>\n",
       "      <th>std</th>\n",
       "      <td>NaN</td>\n",
       "      <td>NaN</td>\n",
       "      <td>NaN</td>\n",
       "      <td>NaN</td>\n",
       "      <td>14.166083</td>\n",
       "      <td>129.143707</td>\n",
       "      <td>6304.650847</td>\n",
       "      <td>NaN</td>\n",
       "      <td>NaN</td>\n",
       "      <td>NaN</td>\n",
       "    </tr>\n",
       "    <tr>\n",
       "      <th>min</th>\n",
       "      <td>NaN</td>\n",
       "      <td>NaN</td>\n",
       "      <td>NaN</td>\n",
       "      <td>NaN</td>\n",
       "      <td>1.000000</td>\n",
       "      <td>100.000000</td>\n",
       "      <td>100.000000</td>\n",
       "      <td>NaN</td>\n",
       "      <td>NaN</td>\n",
       "      <td>NaN</td>\n",
       "    </tr>\n",
       "    <tr>\n",
       "      <th>25%</th>\n",
       "      <td>NaN</td>\n",
       "      <td>NaN</td>\n",
       "      <td>NaN</td>\n",
       "      <td>NaN</td>\n",
       "      <td>13.000000</td>\n",
       "      <td>300.000000</td>\n",
       "      <td>3600.000000</td>\n",
       "      <td>NaN</td>\n",
       "      <td>NaN</td>\n",
       "      <td>NaN</td>\n",
       "    </tr>\n",
       "    <tr>\n",
       "      <th>50%</th>\n",
       "      <td>NaN</td>\n",
       "      <td>NaN</td>\n",
       "      <td>NaN</td>\n",
       "      <td>NaN</td>\n",
       "      <td>25.000000</td>\n",
       "      <td>400.000000</td>\n",
       "      <td>8000.000000</td>\n",
       "      <td>NaN</td>\n",
       "      <td>NaN</td>\n",
       "      <td>NaN</td>\n",
       "    </tr>\n",
       "    <tr>\n",
       "      <th>75%</th>\n",
       "      <td>NaN</td>\n",
       "      <td>NaN</td>\n",
       "      <td>NaN</td>\n",
       "      <td>NaN</td>\n",
       "      <td>37.000000</td>\n",
       "      <td>500.000000</td>\n",
       "      <td>13500.000000</td>\n",
       "      <td>NaN</td>\n",
       "      <td>NaN</td>\n",
       "      <td>NaN</td>\n",
       "    </tr>\n",
       "    <tr>\n",
       "      <th>max</th>\n",
       "      <td>NaN</td>\n",
       "      <td>NaN</td>\n",
       "      <td>NaN</td>\n",
       "      <td>NaN</td>\n",
       "      <td>49.000000</td>\n",
       "      <td>500.000000</td>\n",
       "      <td>24500.000000</td>\n",
       "      <td>NaN</td>\n",
       "      <td>NaN</td>\n",
       "      <td>NaN</td>\n",
       "    </tr>\n",
       "  </tbody>\n",
       "</table>\n",
       "</div>"
      ],
      "text/plain": [
       "              Date Customer Acquisition Type Country    Product        Units  \\\n",
       "count         8000                      8000    8000       8000  8000.000000   \n",
       "unique         730                         3       6          5          NaN   \n",
       "top     10/25/2020                   Organic  Poland  Product 2          NaN   \n",
       "freq            24                      3224    2399       2408          NaN   \n",
       "mean           NaN                       NaN     NaN        NaN    25.201375   \n",
       "std            NaN                       NaN     NaN        NaN    14.166083   \n",
       "min            NaN                       NaN     NaN        NaN     1.000000   \n",
       "25%            NaN                       NaN     NaN        NaN    13.000000   \n",
       "50%            NaN                       NaN     NaN        NaN    25.000000   \n",
       "75%            NaN                       NaN     NaN        NaN    37.000000   \n",
       "max            NaN                       NaN     NaN        NaN    49.000000   \n",
       "\n",
       "              Price       Revenue Delivery Performance Return  \\\n",
       "count   8000.000000   8000.000000                 8000   8000   \n",
       "unique          NaN           NaN                    2      2   \n",
       "top             NaN           NaN              On-time     No   \n",
       "freq            NaN           NaN                 6761   7172   \n",
       "mean     358.887500   9061.012500                  NaN    NaN   \n",
       "std      129.143707   6304.650847                  NaN    NaN   \n",
       "min      100.000000    100.000000                  NaN    NaN   \n",
       "25%      300.000000   3600.000000                  NaN    NaN   \n",
       "50%      400.000000   8000.000000                  NaN    NaN   \n",
       "75%      500.000000  13500.000000                  NaN    NaN   \n",
       "max      500.000000  24500.000000                  NaN    NaN   \n",
       "\n",
       "       Customer Satisfaction  \n",
       "count                   8000  \n",
       "unique                     5  \n",
       "top                     Good  \n",
       "freq                    3177  \n",
       "mean                     NaN  \n",
       "std                      NaN  \n",
       "min                      NaN  \n",
       "25%                      NaN  \n",
       "50%                      NaN  \n",
       "75%                      NaN  \n",
       "max                      NaN  "
      ]
     },
     "execution_count": 4,
     "metadata": {},
     "output_type": "execute_result"
    }
   ],
   "source": [
    "df.describe(include='all')"
   ]
  },
  {
   "cell_type": "markdown",
   "id": "7965cf4d",
   "metadata": {},
   "source": [
    "### Highest sells"
   ]
  },
  {
   "cell_type": "code",
   "execution_count": 7,
   "id": "098f1fdc-ccfd-4e23-92bc-d09be4d921d5",
   "metadata": {
    "ExecuteTime": {
     "end_time": "2022-09-28T16:26:19.648336Z",
     "start_time": "2022-09-28T16:26:19.625271Z"
    }
   },
   "outputs": [
    {
     "data": {
      "text/html": [
       "<div>\n",
       "<style scoped>\n",
       "    .dataframe tbody tr th:only-of-type {\n",
       "        vertical-align: middle;\n",
       "    }\n",
       "\n",
       "    .dataframe tbody tr th {\n",
       "        vertical-align: top;\n",
       "    }\n",
       "\n",
       "    .dataframe thead th {\n",
       "        text-align: right;\n",
       "    }\n",
       "</style>\n",
       "<table border=\"1\" class=\"dataframe\">\n",
       "  <thead>\n",
       "    <tr style=\"text-align: right;\">\n",
       "      <th></th>\n",
       "      <th>Date</th>\n",
       "      <th>Customer Acquisition Type</th>\n",
       "      <th>Country</th>\n",
       "      <th>Product</th>\n",
       "      <th>Units</th>\n",
       "      <th>Price</th>\n",
       "      <th>Revenue</th>\n",
       "      <th>Delivery Performance</th>\n",
       "      <th>Return</th>\n",
       "      <th>Customer Satisfaction</th>\n",
       "    </tr>\n",
       "  </thead>\n",
       "  <tbody>\n",
       "    <tr>\n",
       "      <th>173</th>\n",
       "      <td>1/16/2020</td>\n",
       "      <td>Organic</td>\n",
       "      <td>Germany</td>\n",
       "      <td>Product 2</td>\n",
       "      <td>49</td>\n",
       "      <td>500</td>\n",
       "      <td>24500</td>\n",
       "      <td>On-time</td>\n",
       "      <td>Yes</td>\n",
       "      <td>Good</td>\n",
       "    </tr>\n",
       "    <tr>\n",
       "      <th>193</th>\n",
       "      <td>1/18/2020</td>\n",
       "      <td>Returning</td>\n",
       "      <td>United Kingdoms</td>\n",
       "      <td>Product 2</td>\n",
       "      <td>49</td>\n",
       "      <td>500</td>\n",
       "      <td>24500</td>\n",
       "      <td>On-time</td>\n",
       "      <td>No</td>\n",
       "      <td>Good</td>\n",
       "    </tr>\n",
       "    <tr>\n",
       "      <th>437</th>\n",
       "      <td>2/7/2020</td>\n",
       "      <td>Organic</td>\n",
       "      <td>Poland</td>\n",
       "      <td>Product 2</td>\n",
       "      <td>49</td>\n",
       "      <td>500</td>\n",
       "      <td>24500</td>\n",
       "      <td>On-time</td>\n",
       "      <td>No</td>\n",
       "      <td>Good</td>\n",
       "    </tr>\n",
       "    <tr>\n",
       "      <th>467</th>\n",
       "      <td>2/11/2020</td>\n",
       "      <td>Ad</td>\n",
       "      <td>Poland</td>\n",
       "      <td>Product 2</td>\n",
       "      <td>49</td>\n",
       "      <td>500</td>\n",
       "      <td>24500</td>\n",
       "      <td>On-time</td>\n",
       "      <td>No</td>\n",
       "      <td>Good</td>\n",
       "    </tr>\n",
       "    <tr>\n",
       "      <th>587</th>\n",
       "      <td>2/23/2020</td>\n",
       "      <td>Returning</td>\n",
       "      <td>Poland</td>\n",
       "      <td>Product 2</td>\n",
       "      <td>49</td>\n",
       "      <td>500</td>\n",
       "      <td>24500</td>\n",
       "      <td>On-time</td>\n",
       "      <td>No</td>\n",
       "      <td>Ok</td>\n",
       "    </tr>\n",
       "  </tbody>\n",
       "</table>\n",
       "</div>"
      ],
      "text/plain": [
       "          Date Customer Acquisition Type          Country    Product  Units  \\\n",
       "173  1/16/2020                   Organic          Germany  Product 2     49   \n",
       "193  1/18/2020                 Returning  United Kingdoms  Product 2     49   \n",
       "437   2/7/2020                   Organic           Poland  Product 2     49   \n",
       "467  2/11/2020                        Ad           Poland  Product 2     49   \n",
       "587  2/23/2020                 Returning           Poland  Product 2     49   \n",
       "\n",
       "     Price  Revenue Delivery Performance Return Customer Satisfaction  \n",
       "173    500    24500              On-time    Yes                  Good  \n",
       "193    500    24500              On-time     No                  Good  \n",
       "437    500    24500              On-time     No                  Good  \n",
       "467    500    24500              On-time     No                  Good  \n",
       "587    500    24500              On-time     No                    Ok  "
      ]
     },
     "execution_count": 7,
     "metadata": {},
     "output_type": "execute_result"
    }
   ],
   "source": [
    "highest = df[df.Revenue == df.Revenue.max()]\n",
    "highest.head()"
   ]
  },
  {
   "cell_type": "code",
   "execution_count": 8,
   "id": "64308821",
   "metadata": {
    "ExecuteTime": {
     "end_time": "2022-09-28T16:26:20.918761Z",
     "start_time": "2022-09-28T16:26:20.910263Z"
    }
   },
   "outputs": [
    {
     "data": {
      "text/plain": [
       "Country\n",
       "France              4\n",
       "Germany            15\n",
       "Norway              1\n",
       "Poland             16\n",
       "Spain               6\n",
       "United Kingdoms    12\n",
       "Name: Date, dtype: int64"
      ]
     },
     "execution_count": 8,
     "metadata": {},
     "output_type": "execute_result"
    }
   ],
   "source": [
    "highest.groupby(by=[\"Country\"])[\"Date\"].count()"
   ]
  },
  {
   "cell_type": "code",
   "execution_count": 9,
   "id": "c2526901-da58-474c-9a0f-c8926e21732c",
   "metadata": {
    "ExecuteTime": {
     "end_time": "2022-09-28T16:26:21.458147Z",
     "start_time": "2022-09-28T16:26:21.439119Z"
    }
   },
   "outputs": [
    {
     "data": {
      "text/html": [
       "<div>\n",
       "<style scoped>\n",
       "    .dataframe tbody tr th:only-of-type {\n",
       "        vertical-align: middle;\n",
       "    }\n",
       "\n",
       "    .dataframe tbody tr th {\n",
       "        vertical-align: top;\n",
       "    }\n",
       "\n",
       "    .dataframe thead th {\n",
       "        text-align: right;\n",
       "    }\n",
       "</style>\n",
       "<table border=\"1\" class=\"dataframe\">\n",
       "  <thead>\n",
       "    <tr style=\"text-align: right;\">\n",
       "      <th></th>\n",
       "      <th>Units</th>\n",
       "      <th>Price</th>\n",
       "      <th>Revenue</th>\n",
       "    </tr>\n",
       "    <tr>\n",
       "      <th>Country</th>\n",
       "      <th></th>\n",
       "      <th></th>\n",
       "      <th></th>\n",
       "    </tr>\n",
       "  </thead>\n",
       "  <tbody>\n",
       "    <tr>\n",
       "      <th>France</th>\n",
       "      <td>196</td>\n",
       "      <td>2000</td>\n",
       "      <td>98000</td>\n",
       "    </tr>\n",
       "    <tr>\n",
       "      <th>Germany</th>\n",
       "      <td>735</td>\n",
       "      <td>7500</td>\n",
       "      <td>367500</td>\n",
       "    </tr>\n",
       "    <tr>\n",
       "      <th>Norway</th>\n",
       "      <td>49</td>\n",
       "      <td>500</td>\n",
       "      <td>24500</td>\n",
       "    </tr>\n",
       "    <tr>\n",
       "      <th>Poland</th>\n",
       "      <td>784</td>\n",
       "      <td>8000</td>\n",
       "      <td>392000</td>\n",
       "    </tr>\n",
       "    <tr>\n",
       "      <th>Spain</th>\n",
       "      <td>294</td>\n",
       "      <td>3000</td>\n",
       "      <td>147000</td>\n",
       "    </tr>\n",
       "    <tr>\n",
       "      <th>United Kingdoms</th>\n",
       "      <td>588</td>\n",
       "      <td>6000</td>\n",
       "      <td>294000</td>\n",
       "    </tr>\n",
       "  </tbody>\n",
       "</table>\n",
       "</div>"
      ],
      "text/plain": [
       "                 Units  Price  Revenue\n",
       "Country                               \n",
       "France             196   2000    98000\n",
       "Germany            735   7500   367500\n",
       "Norway              49    500    24500\n",
       "Poland             784   8000   392000\n",
       "Spain              294   3000   147000\n",
       "United Kingdoms    588   6000   294000"
      ]
     },
     "execution_count": 9,
     "metadata": {},
     "output_type": "execute_result"
    }
   ],
   "source": [
    "highest.groupby(by=[\"Country\"]).sum()"
   ]
  },
  {
   "cell_type": "markdown",
   "id": "86f01ade",
   "metadata": {},
   "source": [
    "### Lowest Sells"
   ]
  },
  {
   "cell_type": "code",
   "execution_count": 10,
   "id": "4451406b-6c94-454b-8ddc-7b56094d9d6c",
   "metadata": {
    "ExecuteTime": {
     "end_time": "2022-09-28T16:26:25.616129Z",
     "start_time": "2022-09-28T16:26:25.591770Z"
    }
   },
   "outputs": [
    {
     "data": {
      "text/html": [
       "<div>\n",
       "<style scoped>\n",
       "    .dataframe tbody tr th:only-of-type {\n",
       "        vertical-align: middle;\n",
       "    }\n",
       "\n",
       "    .dataframe tbody tr th {\n",
       "        vertical-align: top;\n",
       "    }\n",
       "\n",
       "    .dataframe thead th {\n",
       "        text-align: right;\n",
       "    }\n",
       "</style>\n",
       "<table border=\"1\" class=\"dataframe\">\n",
       "  <thead>\n",
       "    <tr style=\"text-align: right;\">\n",
       "      <th></th>\n",
       "      <th>Date</th>\n",
       "      <th>Customer Acquisition Type</th>\n",
       "      <th>Country</th>\n",
       "      <th>Product</th>\n",
       "      <th>Units</th>\n",
       "      <th>Price</th>\n",
       "      <th>Revenue</th>\n",
       "      <th>Delivery Performance</th>\n",
       "      <th>Return</th>\n",
       "      <th>Customer Satisfaction</th>\n",
       "    </tr>\n",
       "  </thead>\n",
       "  <tbody>\n",
       "    <tr>\n",
       "      <th>80</th>\n",
       "      <td>1/7/2020</td>\n",
       "      <td>Returning</td>\n",
       "      <td>Spain</td>\n",
       "      <td>Product 3</td>\n",
       "      <td>1</td>\n",
       "      <td>100</td>\n",
       "      <td>100</td>\n",
       "      <td>On-time</td>\n",
       "      <td>No</td>\n",
       "      <td>Good</td>\n",
       "    </tr>\n",
       "    <tr>\n",
       "      <th>156</th>\n",
       "      <td>1/14/2020</td>\n",
       "      <td>Organic</td>\n",
       "      <td>Poland</td>\n",
       "      <td>Product 3</td>\n",
       "      <td>1</td>\n",
       "      <td>100</td>\n",
       "      <td>100</td>\n",
       "      <td>On-time</td>\n",
       "      <td>No</td>\n",
       "      <td>Very good</td>\n",
       "    </tr>\n",
       "    <tr>\n",
       "      <th>1606</th>\n",
       "      <td>5/25/2020</td>\n",
       "      <td>Organic</td>\n",
       "      <td>Poland</td>\n",
       "      <td>Product 3</td>\n",
       "      <td>1</td>\n",
       "      <td>100</td>\n",
       "      <td>100</td>\n",
       "      <td>On-time</td>\n",
       "      <td>No</td>\n",
       "      <td>Good</td>\n",
       "    </tr>\n",
       "    <tr>\n",
       "      <th>2231</th>\n",
       "      <td>7/22/2020</td>\n",
       "      <td>Ad</td>\n",
       "      <td>Norway</td>\n",
       "      <td>Product 3</td>\n",
       "      <td>1</td>\n",
       "      <td>100</td>\n",
       "      <td>100</td>\n",
       "      <td>On-time</td>\n",
       "      <td>No</td>\n",
       "      <td>Very good</td>\n",
       "    </tr>\n",
       "    <tr>\n",
       "      <th>2510</th>\n",
       "      <td>8/16/2020</td>\n",
       "      <td>Returning</td>\n",
       "      <td>Spain</td>\n",
       "      <td>Product 3</td>\n",
       "      <td>1</td>\n",
       "      <td>100</td>\n",
       "      <td>100</td>\n",
       "      <td>On-time</td>\n",
       "      <td>No</td>\n",
       "      <td>Good</td>\n",
       "    </tr>\n",
       "  </tbody>\n",
       "</table>\n",
       "</div>"
      ],
      "text/plain": [
       "           Date Customer Acquisition Type Country    Product  Units  Price  \\\n",
       "80     1/7/2020                 Returning   Spain  Product 3      1    100   \n",
       "156   1/14/2020                   Organic  Poland  Product 3      1    100   \n",
       "1606  5/25/2020                   Organic  Poland  Product 3      1    100   \n",
       "2231  7/22/2020                        Ad  Norway  Product 3      1    100   \n",
       "2510  8/16/2020                 Returning   Spain  Product 3      1    100   \n",
       "\n",
       "      Revenue Delivery Performance Return Customer Satisfaction  \n",
       "80        100              On-time     No                  Good  \n",
       "156       100              On-time     No             Very good  \n",
       "1606      100              On-time     No                  Good  \n",
       "2231      100              On-time     No             Very good  \n",
       "2510      100              On-time     No                  Good  "
      ]
     },
     "execution_count": 10,
     "metadata": {},
     "output_type": "execute_result"
    }
   ],
   "source": [
    "lowest = df[df.Revenue == df.Revenue.min()]\n",
    "lowest.head()"
   ]
  },
  {
   "cell_type": "markdown",
   "id": "24d677fe",
   "metadata": {},
   "source": [
    "### Customer Satisfaction = Very low"
   ]
  },
  {
   "cell_type": "code",
   "execution_count": 12,
   "id": "34fda695-e0ef-41b4-b0d6-68e6cb65af20",
   "metadata": {
    "ExecuteTime": {
     "end_time": "2022-09-28T16:26:46.264273Z",
     "start_time": "2022-09-28T16:26:46.254566Z"
    }
   },
   "outputs": [],
   "source": [
    "low_satisf = df[df[\"Customer Satisfaction\"] == \"Very low\"]"
   ]
  },
  {
   "cell_type": "code",
   "execution_count": 13,
   "id": "c64fa52f-29d3-406d-bf86-b39656874fd7",
   "metadata": {
    "ExecuteTime": {
     "end_time": "2022-09-28T16:26:46.415782Z",
     "start_time": "2022-09-28T16:26:46.405857Z"
    }
   },
   "outputs": [
    {
     "data": {
      "text/html": [
       "<div>\n",
       "<style scoped>\n",
       "    .dataframe tbody tr th:only-of-type {\n",
       "        vertical-align: middle;\n",
       "    }\n",
       "\n",
       "    .dataframe tbody tr th {\n",
       "        vertical-align: top;\n",
       "    }\n",
       "\n",
       "    .dataframe thead th {\n",
       "        text-align: right;\n",
       "    }\n",
       "</style>\n",
       "<table border=\"1\" class=\"dataframe\">\n",
       "  <thead>\n",
       "    <tr style=\"text-align: right;\">\n",
       "      <th></th>\n",
       "      <th>Date</th>\n",
       "      <th>Customer Acquisition Type</th>\n",
       "      <th>Country</th>\n",
       "      <th>Product</th>\n",
       "      <th>Units</th>\n",
       "      <th>Price</th>\n",
       "      <th>Revenue</th>\n",
       "      <th>Delivery Performance</th>\n",
       "      <th>Return</th>\n",
       "      <th>Customer Satisfaction</th>\n",
       "    </tr>\n",
       "  </thead>\n",
       "  <tbody>\n",
       "    <tr>\n",
       "      <th>11</th>\n",
       "      <td>1/1/2020</td>\n",
       "      <td>Organic</td>\n",
       "      <td>Germany</td>\n",
       "      <td>Product 1</td>\n",
       "      <td>13</td>\n",
       "      <td>300</td>\n",
       "      <td>3900</td>\n",
       "      <td>Delayed</td>\n",
       "      <td>No</td>\n",
       "      <td>Very low</td>\n",
       "    </tr>\n",
       "    <tr>\n",
       "      <th>14</th>\n",
       "      <td>1/2/2020</td>\n",
       "      <td>Organic</td>\n",
       "      <td>Germany</td>\n",
       "      <td>Product 3</td>\n",
       "      <td>48</td>\n",
       "      <td>100</td>\n",
       "      <td>4800</td>\n",
       "      <td>On-time</td>\n",
       "      <td>No</td>\n",
       "      <td>Very low</td>\n",
       "    </tr>\n",
       "    <tr>\n",
       "      <th>29</th>\n",
       "      <td>1/3/2020</td>\n",
       "      <td>Organic</td>\n",
       "      <td>Poland</td>\n",
       "      <td>Product 4</td>\n",
       "      <td>33</td>\n",
       "      <td>400</td>\n",
       "      <td>13200</td>\n",
       "      <td>On-time</td>\n",
       "      <td>No</td>\n",
       "      <td>Very low</td>\n",
       "    </tr>\n",
       "    <tr>\n",
       "      <th>88</th>\n",
       "      <td>1/8/2020</td>\n",
       "      <td>Returning</td>\n",
       "      <td>Germany</td>\n",
       "      <td>Product 4</td>\n",
       "      <td>27</td>\n",
       "      <td>400</td>\n",
       "      <td>10800</td>\n",
       "      <td>Delayed</td>\n",
       "      <td>No</td>\n",
       "      <td>Very low</td>\n",
       "    </tr>\n",
       "    <tr>\n",
       "      <th>94</th>\n",
       "      <td>1/9/2020</td>\n",
       "      <td>Returning</td>\n",
       "      <td>Norway</td>\n",
       "      <td>Product 2</td>\n",
       "      <td>31</td>\n",
       "      <td>500</td>\n",
       "      <td>15500</td>\n",
       "      <td>On-time</td>\n",
       "      <td>No</td>\n",
       "      <td>Very low</td>\n",
       "    </tr>\n",
       "  </tbody>\n",
       "</table>\n",
       "</div>"
      ],
      "text/plain": [
       "        Date Customer Acquisition Type  Country    Product  Units  Price  \\\n",
       "11  1/1/2020                   Organic  Germany  Product 1     13    300   \n",
       "14  1/2/2020                   Organic  Germany  Product 3     48    100   \n",
       "29  1/3/2020                   Organic   Poland  Product 4     33    400   \n",
       "88  1/8/2020                 Returning  Germany  Product 4     27    400   \n",
       "94  1/9/2020                 Returning   Norway  Product 2     31    500   \n",
       "\n",
       "    Revenue Delivery Performance Return Customer Satisfaction  \n",
       "11     3900              Delayed     No              Very low  \n",
       "14     4800              On-time     No              Very low  \n",
       "29    13200              On-time     No              Very low  \n",
       "88    10800              Delayed     No              Very low  \n",
       "94    15500              On-time     No              Very low  "
      ]
     },
     "execution_count": 13,
     "metadata": {},
     "output_type": "execute_result"
    }
   ],
   "source": [
    "low_satisf.head()"
   ]
  },
  {
   "cell_type": "code",
   "execution_count": 14,
   "id": "182fa0c5-649b-4825-8314-4115be8d7a5f",
   "metadata": {
    "ExecuteTime": {
     "end_time": "2022-09-28T16:26:50.530534Z",
     "start_time": "2022-09-28T16:26:50.519897Z"
    }
   },
   "outputs": [
    {
     "data": {
      "text/plain": [
       "Country\n",
       "France             48\n",
       "Germany            81\n",
       "Norway             13\n",
       "Poland             95\n",
       "Spain              34\n",
       "United Kingdoms    65\n",
       "Name: Date, dtype: int64"
      ]
     },
     "execution_count": 14,
     "metadata": {},
     "output_type": "execute_result"
    }
   ],
   "source": [
    "low_satisf.groupby(by=[\"Country\"])[\"Date\"].count()"
   ]
  },
  {
   "cell_type": "code",
   "execution_count": 15,
   "id": "f6e44a4e-25ff-4ae9-a764-d2ab2cf8bce0",
   "metadata": {
    "ExecuteTime": {
     "end_time": "2022-09-28T16:26:51.915706Z",
     "start_time": "2022-09-28T16:26:51.874806Z"
    }
   },
   "outputs": [
    {
     "data": {
      "text/html": [
       "<div>\n",
       "<style scoped>\n",
       "    .dataframe tbody tr th:only-of-type {\n",
       "        vertical-align: middle;\n",
       "    }\n",
       "\n",
       "    .dataframe tbody tr th {\n",
       "        vertical-align: top;\n",
       "    }\n",
       "\n",
       "    .dataframe thead th {\n",
       "        text-align: right;\n",
       "    }\n",
       "</style>\n",
       "<table border=\"1\" class=\"dataframe\">\n",
       "  <thead>\n",
       "    <tr style=\"text-align: right;\">\n",
       "      <th></th>\n",
       "      <th>count</th>\n",
       "      <th>mean</th>\n",
       "      <th>std</th>\n",
       "      <th>min</th>\n",
       "      <th>25%</th>\n",
       "      <th>50%</th>\n",
       "      <th>75%</th>\n",
       "      <th>max</th>\n",
       "    </tr>\n",
       "    <tr>\n",
       "      <th>Country</th>\n",
       "      <th></th>\n",
       "      <th></th>\n",
       "      <th></th>\n",
       "      <th></th>\n",
       "      <th></th>\n",
       "      <th></th>\n",
       "      <th></th>\n",
       "      <th></th>\n",
       "    </tr>\n",
       "  </thead>\n",
       "  <tbody>\n",
       "    <tr>\n",
       "      <th>France</th>\n",
       "      <td>1189.0</td>\n",
       "      <td>8880.403701</td>\n",
       "      <td>6345.536715</td>\n",
       "      <td>100.0</td>\n",
       "      <td>3200.0</td>\n",
       "      <td>8000.0</td>\n",
       "      <td>13500.0</td>\n",
       "      <td>24500.0</td>\n",
       "    </tr>\n",
       "    <tr>\n",
       "      <th>Germany</th>\n",
       "      <td>1598.0</td>\n",
       "      <td>9029.974969</td>\n",
       "      <td>6385.127434</td>\n",
       "      <td>100.0</td>\n",
       "      <td>3600.0</td>\n",
       "      <td>8000.0</td>\n",
       "      <td>13500.0</td>\n",
       "      <td>24500.0</td>\n",
       "    </tr>\n",
       "    <tr>\n",
       "      <th>Norway</th>\n",
       "      <td>401.0</td>\n",
       "      <td>8359.600998</td>\n",
       "      <td>6073.488605</td>\n",
       "      <td>100.0</td>\n",
       "      <td>3300.0</td>\n",
       "      <td>7500.0</td>\n",
       "      <td>12400.0</td>\n",
       "      <td>24500.0</td>\n",
       "    </tr>\n",
       "    <tr>\n",
       "      <th>Poland</th>\n",
       "      <td>2399.0</td>\n",
       "      <td>9280.366820</td>\n",
       "      <td>6300.726929</td>\n",
       "      <td>100.0</td>\n",
       "      <td>3900.0</td>\n",
       "      <td>8400.0</td>\n",
       "      <td>14000.0</td>\n",
       "      <td>24500.0</td>\n",
       "    </tr>\n",
       "    <tr>\n",
       "      <th>Spain</th>\n",
       "      <td>786.0</td>\n",
       "      <td>9266.921120</td>\n",
       "      <td>6425.722587</td>\n",
       "      <td>100.0</td>\n",
       "      <td>3825.0</td>\n",
       "      <td>8400.0</td>\n",
       "      <td>13500.0</td>\n",
       "      <td>24500.0</td>\n",
       "    </tr>\n",
       "    <tr>\n",
       "      <th>United Kingdoms</th>\n",
       "      <td>1627.0</td>\n",
       "      <td>8973.448064</td>\n",
       "      <td>6186.873228</td>\n",
       "      <td>100.0</td>\n",
       "      <td>3600.0</td>\n",
       "      <td>8000.0</td>\n",
       "      <td>13500.0</td>\n",
       "      <td>24500.0</td>\n",
       "    </tr>\n",
       "  </tbody>\n",
       "</table>\n",
       "</div>"
      ],
      "text/plain": [
       "                  count         mean          std    min     25%     50%  \\\n",
       "Country                                                                    \n",
       "France           1189.0  8880.403701  6345.536715  100.0  3200.0  8000.0   \n",
       "Germany          1598.0  9029.974969  6385.127434  100.0  3600.0  8000.0   \n",
       "Norway            401.0  8359.600998  6073.488605  100.0  3300.0  7500.0   \n",
       "Poland           2399.0  9280.366820  6300.726929  100.0  3900.0  8400.0   \n",
       "Spain             786.0  9266.921120  6425.722587  100.0  3825.0  8400.0   \n",
       "United Kingdoms  1627.0  8973.448064  6186.873228  100.0  3600.0  8000.0   \n",
       "\n",
       "                     75%      max  \n",
       "Country                            \n",
       "France           13500.0  24500.0  \n",
       "Germany          13500.0  24500.0  \n",
       "Norway           12400.0  24500.0  \n",
       "Poland           14000.0  24500.0  \n",
       "Spain            13500.0  24500.0  \n",
       "United Kingdoms  13500.0  24500.0  "
      ]
     },
     "execution_count": 15,
     "metadata": {},
     "output_type": "execute_result"
    }
   ],
   "source": [
    "df.groupby(by=[\"Country\"]).Revenue.describe()"
   ]
  },
  {
   "cell_type": "markdown",
   "id": "bea4afd7",
   "metadata": {
    "ExecuteTime": {
     "end_time": "2022-09-28T16:27:03.955073Z",
     "start_time": "2022-09-28T16:27:03.952027Z"
    }
   },
   "source": [
    "### Visualizations"
   ]
  },
  {
   "cell_type": "code",
   "execution_count": 17,
   "id": "01ee3832-a103-488c-b252-b8d07a33ca33",
   "metadata": {
    "ExecuteTime": {
     "end_time": "2022-09-28T16:27:14.719232Z",
     "start_time": "2022-09-28T16:27:14.568239Z"
    }
   },
   "outputs": [
    {
     "data": {
      "text/plain": [
       "<AxesSubplot:xlabel='Country', ylabel='Revenue'>"
      ]
     },
     "execution_count": 17,
     "metadata": {},
     "output_type": "execute_result"
    },
    {
     "data": {
      "image/png": "[encoded data removed]",
      "text/plain": [
       "<Figure size 432x288 with 1 Axes>"
      ]
     },
     "metadata": {
      "needs_background": "light"
     },
     "output_type": "display_data"
    }
   ],
   "source": [
    "sns.boxplot(x = 'Country', y = 'Revenue', data = df) "
   ]
  },
  {
   "cell_type": "code",
   "execution_count": 18,
   "id": "f19ae62b-f4c9-4303-ade3-5bccbcb7c892",
   "metadata": {
    "ExecuteTime": {
     "end_time": "2022-09-28T16:27:15.625030Z",
     "start_time": "2022-09-28T16:27:15.452970Z"
    }
   },
   "outputs": [
    {
     "data": {
      "text/plain": [
       "<AxesSubplot:xlabel='Country', ylabel='Revenue'>"
      ]
     },
     "execution_count": 18,
     "metadata": {},
     "output_type": "execute_result"
    },
    {
     "data": {
      "image/png": "[encoded data removed]",
      "text/plain": [
       "<Figure size 432x288 with 1 Axes>"
      ]
     },
     "metadata": {
      "needs_background": "light"
     },
     "output_type": "display_data"
    }
   ],
   "source": [
    "sns.boxplot(x = 'Country', y = 'Revenue', data = df) \n",
    "sns.stripplot(x = 'Country', y = 'Revenue', data = df,\n",
    "              jitter=True, \n",
    "              marker='*',\n",
    "              alpha=0.2, \n",
    "              color=\"black\")"
   ]
  },
  {
   "cell_type": "code",
   "execution_count": 31,
   "id": "98f19d92-be82-4436-a2a5-7aa94d85807d",
   "metadata": {
    "ExecuteTime": {
     "end_time": "2022-09-28T16:30:06.073054Z",
     "start_time": "2022-09-28T16:30:06.066697Z"
    }
   },
   "outputs": [],
   "source": [
    "poland = df[df.Country == \"Poland\"]"
   ]
  },
  {
   "cell_type": "code",
   "execution_count": 32,
   "id": "39caeac8-9527-4be1-8a37-5918cc6222b7",
   "metadata": {
    "ExecuteTime": {
     "end_time": "2022-09-28T16:30:15.007619Z",
     "start_time": "2022-09-28T16:30:14.810359Z"
    }
   },
   "outputs": [
    {
     "data": {
      "text/plain": [
       "<AxesSubplot:xlabel='Product', ylabel='Revenue'>"
      ]
     },
     "execution_count": 32,
     "metadata": {},
     "output_type": "execute_result"
    },
    {
     "data": {
      "image/png": "[encoded data removed]",
      "text/plain": [
       "<Figure size 432x288 with 1 Axes>"
      ]
     },
     "metadata": {
      "needs_background": "light"
     },
     "output_type": "display_data"
    }
   ],
   "source": [
    "sns.barplot(data=poland, x=\"Product\", y='Revenue')"
   ]
  },
  {
   "cell_type": "code",
   "execution_count": 33,
   "id": "40721841-4820-424e-9ca2-1b7a53cfb45c",
   "metadata": {
    "ExecuteTime": {
     "end_time": "2022-09-28T16:30:17.373859Z",
     "start_time": "2022-09-28T16:30:16.607953Z"
    }
   },
   "outputs": [
    {
     "data": {
      "text/plain": [
       "<AxesSubplot:xlabel='Product', ylabel='Revenue'>"
      ]
     },
     "execution_count": 33,
     "metadata": {},
     "output_type": "execute_result"
    },
    {
     "data": {
      "image/png": "[encoded data removed]",
      "text/plain": [
       "<Figure size 432x288 with 1 Axes>"
      ]
     },
     "metadata": {
      "needs_background": "light"
     },
     "output_type": "display_data"
    }
   ],
   "source": [
    "sns.barplot(data=df, x=\"Product\", y=\"Revenue\", hue=\"Country\")"
   ]
  },
  {
   "cell_type": "code",
   "execution_count": 34,
   "id": "cf133928-fff0-4d3c-9eda-193a897b9d3d",
   "metadata": {
    "ExecuteTime": {
     "end_time": "2022-09-28T16:30:17.525084Z",
     "start_time": "2022-09-28T16:30:17.425753Z"
    }
   },
   "outputs": [
    {
     "data": {
      "text/plain": [
       "<AxesSubplot:xlabel='Revenue', ylabel='Country'>"
      ]
     },
     "execution_count": 34,
     "metadata": {},
     "output_type": "execute_result"
    },
    {
     "data": {
      "image/png": "[encoded data removed]",
      "text/plain": [
       "<Figure size 432x288 with 1 Axes>"
      ]
     },
     "metadata": {
      "needs_background": "light"
     },
     "output_type": "display_data"
    }
   ],
   "source": [
    "sns.boxenplot(data=df, x=\"Revenue\", y=\"Country\")"
   ]
  },
  {
   "cell_type": "code",
   "execution_count": 35,
   "id": "f0e1a263",
   "metadata": {
    "ExecuteTime": {
     "end_time": "2022-09-28T16:30:33.308222Z",
     "start_time": "2022-09-28T16:30:33.193143Z"
    }
   },
   "outputs": [
    {
     "data": {
      "text/plain": [
       "<AxesSubplot:>"
      ]
     },
     "execution_count": 35,
     "metadata": {},
     "output_type": "execute_result"
    },
    {
     "data": {
      "image/png": "[encoded data removed]",
      "text/plain": [
       "<Figure size 432x288 with 2 Axes>"
      ]
     },
     "metadata": {
      "needs_background": "light"
     },
     "output_type": "display_data"
    }
   ],
   "source": [
    "corr = df.corr()\n",
    "sns.heatmap(corr)"
   ]
  },
  {
   "cell_type": "code",
   "execution_count": 36,
   "id": "02575a52",
   "metadata": {
    "ExecuteTime": {
     "end_time": "2022-09-28T16:30:40.714624Z",
     "start_time": "2022-09-28T16:30:40.214714Z"
    }
   },
   "outputs": [
    {
     "data": {
      "image/png": "[encoded data removed]",
      "text/plain": [
       "<Figure size 540x540 with 9 Axes>"
      ]
     },
     "metadata": {
      "needs_background": "light"
     },
     "output_type": "display_data"
    }
   ],
   "source": [
    "number = df.select_dtypes(include=['number'])\n",
    "g = sns.PairGrid(number)\n",
    "g.map(plt.scatter);"
   ]
  }
 ],
 "metadata": {
  "kernelspec": {
   "display_name": "Python 3",
   "language": "python",
   "name": "python3"
  },
  "language_info": {
   "codemirror_mode": {
    "name": "ipython",
    "version": 3
   },
   "file_extension": ".py",
   "mimetype": "text/x-python",
   "name": "python",
   "nbconvert_exporter": "python",
   "pygments_lexer": "ipython3",
   "version": "3.8.8"
  },
  "varInspector": {
   "cols": {
    "lenName": 16,
    "lenType": 16,
    "lenVar": 40
   },
   "kernels_config": {
    "python": {
     "delete_cmd_postfix": "",
     "delete_cmd_prefix": "del ",
     "library": "var_list.py",
     "varRefreshCmd": "print(var_dic_list())"
    },
    "r": {
     "delete_cmd_postfix": ") ",
     "delete_cmd_prefix": "rm(",
     "library": "var_list.r",
     "varRefreshCmd": "cat(var_dic_list()) "
    }
   },
   "types_to_exclude": [
    "module",
    "function",
    "builtin_function_or_method",
    "instance",
    "_Feature"
   ],
   "window_display": false
  }
 },
 "nbformat": 4,
 "nbformat_minor": 5
}
